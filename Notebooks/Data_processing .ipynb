{
 "cells": [
  {
   "cell_type": "markdown",
   "id": "0fce656f",
   "metadata": {},
   "source": [
    "# Data Cleaning and Feature Engineering"
   ]
  },
  {
   "cell_type": "markdown",
   "id": "0904dbda",
   "metadata": {},
   "source": [
    "This notebook contains the basic cleaning of my scraped dataset as well as the engineering of additional features, namely based on the short info section of each walk page. "
   ]
  },
  {
   "cell_type": "code",
   "execution_count": 1,
   "id": "2fdb46cf",
   "metadata": {},
   "outputs": [],
   "source": [
    "import pandas as pd\n",
    "import numpy as np\n",
    "from nltk.corpus import stopwords\n",
    "from sklearn.model_selection import train_test_split\n",
    "from sklearn.preprocessing import OneHotEncoder, LabelEncoder\n",
    "from math import floor\n",
    "\n",
    "df_raw=df=pd.read_csv('Walkhighlands_raw.csv',index_col=0)"
   ]
  },
  {
   "cell_type": "code",
   "execution_count": 2,
   "id": "d2e7d0ea",
   "metadata": {},
   "outputs": [
    {
     "name": "stdout",
     "output_type": "stream",
     "text": [
      "                                        name  \\\n",
      "0  Ceannabeinne Township Trail, near Durness   \n",
      "1       Forsinard Flows and Tower, Forsinard   \n",
      "2                         Borgie Forest walk   \n",
      "3                              Melvich Beach   \n",
      "4                  Portskerra pier and jetty   \n",
      "\n",
      "                                                info      region  dist  \\\n",
      "0  This short walk round the site of an abandoned...  sutherland  1.00   \n",
      "1  This short but truly unique walk gives a fasci...  sutherland  1.50   \n",
      "2  This short forestry walk briefly follows the R...  sutherland  1.75   \n",
      "3  This short walk leads out to Melvich Beach - o...  sutherland  1.75   \n",
      "4  This short loop links the pier and the jetty a...  sutherland  2.00   \n",
      "\n",
      "   ascent  corbett  munro  grade  bog  rating  \n",
      "0    65.0        0      0      1    1    3.80  \n",
      "1     6.0        0      0      1    1    3.71  \n",
      "2    34.0        0      0      1    1    1.43  \n",
      "3    16.0        0      0      1    1    4.20  \n",
      "4    56.0        0      0      1    1    4.00  \n",
      "<class 'pandas.core.frame.DataFrame'>\n",
      "Int64Index: 1570 entries, 0 to 1569\n",
      "Data columns (total 10 columns):\n",
      " #   Column   Non-Null Count  Dtype  \n",
      "---  ------   --------------  -----  \n",
      " 0   name     1570 non-null   object \n",
      " 1   info     1544 non-null   object \n",
      " 2   region   1570 non-null   object \n",
      " 3   dist     1570 non-null   float64\n",
      " 4   ascent   1570 non-null   float64\n",
      " 5   corbett  1570 non-null   int64  \n",
      " 6   munro    1570 non-null   int64  \n",
      " 7   grade    1570 non-null   int64  \n",
      " 8   bog      1570 non-null   int64  \n",
      " 9   rating   1569 non-null   float64\n",
      "dtypes: float64(3), int64(4), object(3)\n",
      "memory usage: 134.9+ KB\n",
      "None\n"
     ]
    }
   ],
   "source": [
    "print(df_raw.head())\n",
    "print(df_raw.info())"
   ]
  },
  {
   "cell_type": "markdown",
   "id": "be774606",
   "metadata": {},
   "source": [
    "Looking at this we see a mixture of data types with some null vlaues in the 'info' and 'rating' columns. To tidy this up I have decided to convert all of my numeric data to floats, which will make scaling this data for use in my modelling simpler. To address the null values I have decide to drop all rows with null data, I could have filled the missing rating data with the mean but felt this was not appropriate when an aim of my project has ratings as a target variable. Similarly, I decided to drop walks with missing info sections as using features extracted from this is a central part of my project."
   ]
  },
  {
   "cell_type": "code",
   "execution_count": 3,
   "id": "9a9a122a",
   "metadata": {},
   "outputs": [],
   "source": [
    "df_cleaned=df_raw.copy().dropna()\n",
    "df_cleaned[['corbett','munro','grade','bog']]=df_cleaned[['corbett','munro','grade','bog']].astype('float')\n",
    "df_cleaned.reset_index(inplace=True,drop=True)"
   ]
  },
  {
   "cell_type": "code",
   "execution_count": 4,
   "id": "bdeb081e",
   "metadata": {},
   "outputs": [],
   "source": [
    "df_cleaned.to_csv('Walkhighlands_cleaned.csv')"
   ]
  },
  {
   "cell_type": "markdown",
   "id": "7bd666ef",
   "metadata": {},
   "source": [
    "Now that we have saved a basic version for some quick visualisation, let's move onto engineering features for more detailed visualsiations and to use in some models. For a start, I will one hot encode the region feature."
   ]
  },
  {
   "cell_type": "code",
   "execution_count": 5,
   "id": "7eb42d1e",
   "metadata": {},
   "outputs": [],
   "source": [
    "encoder=OneHotEncoder()\n",
    "df_region=pd.DataFrame(encoder.fit_transform(df['region'].to_numpy().reshape(-1, 1)).toarray())\n",
    "df_region.columns=encoder.get_feature_names_out(['region'])"
   ]
  },
  {
   "cell_type": "code",
   "execution_count": 6,
   "id": "5614c0e6",
   "metadata": {},
   "outputs": [],
   "source": [
    "df_eng=df_cleaned.drop(['region'],axis=1).join(df_region)\n",
    "#print(df_eng)"
   ]
  },
  {
   "cell_type": "markdown",
   "id": "7049de6c",
   "metadata": {},
   "source": [
    "# New features from natural language processing"
   ]
  },
  {
   "cell_type": "markdown",
   "id": "e132873e",
   "metadata": {},
   "source": [
    "The 'info' column in the DataFrame contains a short description of each walk, which I will experiment with using to create new features such as the presence of keywords that may correlate with the rating for the given walk. "
   ]
  },
  {
   "cell_type": "code",
   "execution_count": 7,
   "id": "6566f9e3",
   "metadata": {},
   "outputs": [],
   "source": [
    "df_eng['info_split']=df_eng['info'].apply(lambda z: z.split())"
   ]
  },
  {
   "cell_type": "code",
   "execution_count": 8,
   "id": "c90357bf",
   "metadata": {},
   "outputs": [
    {
     "name": "stdout",
     "output_type": "stream",
     "text": [
      "5864\n"
     ]
    }
   ],
   "source": [
    "words=set(df_eng['info_split'].sum())\n",
    "new_words=set([])\n",
    "for word in words:\n",
    "    new_word=word.strip(',!?.();:').lower()\n",
    "    new_words.add(new_word)\n",
    "#print(new_words)\n",
    "new_words=list(new_words)\n",
    "filtered_words=[word for word in new_words if word not in stopwords.words('english')]\n",
    "print(len(filtered_words))"
   ]
  },
  {
   "cell_type": "markdown",
   "id": "490957d0",
   "metadata": {},
   "source": [
    "Now that we have a list of words that appear in the info feature, we can look at which words might make useful features. Particularly, it seems useful to set a minimum fequency so that ensure each feature contains at least a minimum amount of useful information. An additonal useful side effect of this is, we can significatly reduce the number of features I need to create.\n",
    "\n",
    "One very important note: making a decision like this before performing the train-test split would constitute some possible information leak, so I will need to split my data before this step."
   ]
  },
  {
   "cell_type": "code",
   "execution_count": 9,
   "id": "b0ba3ecd",
   "metadata": {},
   "outputs": [],
   "source": [
    "#takes in list of text and formats it \n",
    "def cleaned_text(text):\n",
    "    new_text=[]\n",
    "    for word in text:\n",
    "        new_text.append(word.strip(',!?.();:').lower())\n",
    "    return new_text"
   ]
  },
  {
   "cell_type": "code",
   "execution_count": 10,
   "id": "13414cb1",
   "metadata": {},
   "outputs": [],
   "source": [
    "df_eng['info_split']=df_eng['info_split'].apply(lambda z: cleaned_text(z))"
   ]
  },
  {
   "cell_type": "code",
   "execution_count": 11,
   "id": "bad13df1",
   "metadata": {},
   "outputs": [],
   "source": [
    "for word in filtered_words:\n",
    "    df_word=df_eng['info_split'].apply(lambda z: int(word in z))\n",
    "    df_word.rename(word, inplace=True)\n",
    "    df_eng=df_eng.join(df_word,lsuffix='_original')\n",
    "\n",
    "    \n",
    "#running this multple times was a bad idea"
   ]
  },
  {
   "cell_type": "code",
   "execution_count": 12,
   "id": "36a34958",
   "metadata": {},
   "outputs": [
    {
     "name": "stdout",
     "output_type": "stream",
     "text": [
      "                                        name_original  \\\n",
      "0           Ceannabeinne Township Trail, near Durness   \n",
      "1                Forsinard Flows and Tower, Forsinard   \n",
      "2                                  Borgie Forest walk   \n",
      "3                                       Melvich Beach   \n",
      "4                           Portskerra pier and jetty   \n",
      "...                                               ...   \n",
      "1538  Da Kame, Da Sneug & Da Noup: the complete Foula   \n",
      "1539         Fair Isle North Lighthouse & Observatory   \n",
      "1540                             Ward Hill, Fair Isle   \n",
      "1541         Malcolm's Head and Sheep Rock, Fair Isle   \n",
      "1542                  The Complete Fair Isle explorer   \n",
      "\n",
      "                                                   info   dist  \\\n",
      "0     This short walk round the site of an abandoned...   1.00   \n",
      "1     This short but truly unique walk gives a fasci...   1.50   \n",
      "2     This short forestry walk briefly follows the R...   1.75   \n",
      "3     This short walk leads out to Melvich Beach - o...   1.75   \n",
      "4     This short loop links the pier and the jetty a...   2.00   \n",
      "...                                                 ...    ...   \n",
      "1538  This magnificent walk takes in the main summit...  13.00   \n",
      "1539  This short, easy ramble follows the road from ...   6.00   \n",
      "1540  Ward Hill is the highest summit on isolated Fa...   4.25   \n",
      "1541  This fantastic walk takes in some of the best ...  12.75   \n",
      "1542  Fair Isle is a difficult place to get to - but...  15.75   \n",
      "\n",
      "      ascent_original  corbett_original  munro_original  grade_original  \\\n",
      "0                65.0               0.0             0.0             1.0   \n",
      "1                 6.0               0.0             0.0             1.0   \n",
      "2                34.0               0.0             0.0             1.0   \n",
      "3                16.0               0.0             0.0             1.0   \n",
      "4                56.0               0.0             0.0             1.0   \n",
      "...               ...               ...             ...             ...   \n",
      "1538            864.0               0.0             0.0             4.0   \n",
      "1539            130.0               0.0             0.0             1.0   \n",
      "1540            204.0               0.0             0.0             2.0   \n",
      "1541            392.0               0.0             0.0             2.0   \n",
      "1542            607.0               0.0             0.0             3.0   \n",
      "\n",
      "      bog_original  rating  region_aberdeenshire  ...  crossed  township  \\\n",
      "0              1.0    3.80                   0.0  ...        0         0   \n",
      "1              1.0    3.71                   0.0  ...        0         0   \n",
      "2              1.0    1.43                   0.0  ...        0         0   \n",
      "3              1.0    4.20                   0.0  ...        0         0   \n",
      "4              1.0    4.00                   0.0  ...        0         0   \n",
      "...            ...     ...                   ...  ...      ...       ...   \n",
      "1538           2.0    5.00                   0.0  ...        0         0   \n",
      "1539           1.0    3.50                   0.0  ...        0         0   \n",
      "1540           2.0    3.00                   0.0  ...        0         0   \n",
      "1541           2.0    5.00                   0.0  ...        0         0   \n",
      "1542           2.0    5.00                   0.0  ...        0         0   \n",
      "\n",
      "      osprey  inveruglas  bike  yellowish  rinnes  fuar-mhonaidh  smaller  \\\n",
      "0          0           0     0          0       0              0        0   \n",
      "1          0           0     0          0       0              0        0   \n",
      "2          0           0     0          0       0              0        0   \n",
      "3          0           0     0          0       0              0        0   \n",
      "4          0           0     0          0       0              0        0   \n",
      "...      ...         ...   ...        ...     ...            ...      ...   \n",
      "1538       0           0     0          0       0              0        0   \n",
      "1539       0           0     0          0       0              0        0   \n",
      "1540       0           0     0          0       0              0        0   \n",
      "1541       0           0     0          0       0              0        0   \n",
      "1542       0           0     0          0       0              0        0   \n",
      "\n",
      "      years  \n",
      "0         0  \n",
      "1         0  \n",
      "2         0  \n",
      "3         0  \n",
      "4         0  \n",
      "...     ...  \n",
      "1538      0  \n",
      "1539      0  \n",
      "1540      0  \n",
      "1541      0  \n",
      "1542      0  \n",
      "\n",
      "[1543 rows x 5895 columns]\n"
     ]
    }
   ],
   "source": [
    "print(df_eng)"
   ]
  },
  {
   "cell_type": "markdown",
   "id": "3944e3d5",
   "metadata": {},
   "source": [
    "# Test Train split"
   ]
  },
  {
   "cell_type": "code",
   "execution_count": 13,
   "id": "f654bef4",
   "metadata": {},
   "outputs": [],
   "source": [
    "df_train, df_test=train_test_split(df_eng, random_state=0)"
   ]
  },
  {
   "cell_type": "code",
   "execution_count": 14,
   "id": "103027be",
   "metadata": {},
   "outputs": [
    {
     "name": "stdout",
     "output_type": "stream",
     "text": [
      "(1157, 5895) (386, 5895)\n"
     ]
    }
   ],
   "source": [
    "print(np.shape(df_train),np.shape(df_test))"
   ]
  },
  {
   "cell_type": "code",
   "execution_count": 15,
   "id": "bd72f4f9",
   "metadata": {},
   "outputs": [
    {
     "name": "stdout",
     "output_type": "stream",
     "text": [
      "walk        622\n",
      "views       447\n",
      "route       270\n",
      "short       251\n",
      "loch        215\n",
      "           ... \n",
      "creator       0\n",
      "carse         0\n",
      "gairich       0\n",
      "craobh        0\n",
      "fhithich      0\n",
      "Length: 5864, dtype: int64\n"
     ]
    }
   ],
   "source": [
    "word_freq=df_train[filtered_words].sum().sort_values(ascending=False)\n",
    "print(word_freq)"
   ]
  },
  {
   "cell_type": "code",
   "execution_count": 16,
   "id": "2b33e7ba",
   "metadata": {},
   "outputs": [],
   "source": [
    "#print(word_freq[word_freq>50].to_string())"
   ]
  },
  {
   "cell_type": "markdown",
   "id": "ce45046b",
   "metadata": {},
   "source": [
    "Now use this frequency to remove words with fewer than 50 instances in the training data"
   ]
  },
  {
   "cell_type": "code",
   "execution_count": 17,
   "id": "a502ff3f",
   "metadata": {},
   "outputs": [],
   "source": [
    "rare_words=word_freq[word_freq<50]"
   ]
  },
  {
   "cell_type": "code",
   "execution_count": 18,
   "id": "92d290cb",
   "metadata": {},
   "outputs": [],
   "source": [
    "df_train.drop(columns=rare_words.index,axis=1, inplace=True)\n",
    "df_test.drop(columns=rare_words.index,axis=1, inplace=True)\n",
    "\n",
    "df_train.drop(columns=['name_original','info','info_split'],axis=1, inplace=True)\n",
    "df_test.drop(columns=['name_original','info','info_split'],axis=1, inplace=True)"
   ]
  },
  {
   "cell_type": "markdown",
   "id": "d4760a1e",
   "metadata": {},
   "source": [
    "Now all is left to do is save these DataFrames "
   ]
  },
  {
   "cell_type": "code",
   "execution_count": 19,
   "id": "cf7a3493",
   "metadata": {},
   "outputs": [],
   "source": [
    "df_train.to_csv('df_train.csv')\n",
    "df_test.to_csv('df_test.csv')"
   ]
  },
  {
   "cell_type": "code",
   "execution_count": 20,
   "id": "bcaf926c",
   "metadata": {},
   "outputs": [],
   "source": [
    "#print(df_train)"
   ]
  },
  {
   "cell_type": "markdown",
   "id": "bcd8d93d",
   "metadata": {},
   "source": [
    "# Slim down the features "
   ]
  },
  {
   "cell_type": "markdown",
   "id": "2b27418e",
   "metadata": {},
   "source": [
    "take a more selective approach to the features used "
   ]
  },
  {
   "cell_type": "code",
   "execution_count": 21,
   "id": "4eee4a20",
   "metadata": {},
   "outputs": [
    {
     "data": {
      "text/plain": [
       "1157"
      ]
     },
     "execution_count": 21,
     "metadata": {},
     "output_type": "execute_result"
    }
   ],
   "source": [
    "np.shape(df_train)[0]"
   ]
  },
  {
   "cell_type": "code",
   "execution_count": 22,
   "id": "361fca36",
   "metadata": {},
   "outputs": [],
   "source": [
    "rating_dict={}\n",
    "count_dict={}\n",
    "for feature in df_train.columns:\n",
    "    new_df=df_train[df_train[feature]!=0]\n",
    "    rating_dict[feature]=new_df['rating'].mean()\n",
    "    count_dict[feature]=np.shape(new_df['rating'])[0]\n",
    "feature_rating=pd.Series(rating_dict).dropna()\n",
    "feature_count=pd.Series(count_dict).dropna()\n"
   ]
  },
  {
   "cell_type": "code",
   "execution_count": 23,
   "id": "5690edad",
   "metadata": {},
   "outputs": [
    {
     "name": "stdout",
     "output_type": "stream",
     "text": [
      "forestry                 3.115441\n",
      "pleasant                 3.141406\n",
      "track                    3.251552\n",
      "region_perthshire        3.258333\n",
      "visit                    3.263297\n",
      "easy                     3.281781\n",
      "waymarked                3.285957\n",
      "area                     3.298929\n",
      "forest                   3.301471\n",
      "good                     3.319396\n",
      "woodland                 3.322871\n",
      "river                    3.325806\n",
      "via                      3.330556\n",
      "region_cairngorms        3.334018\n",
      "old                      3.345068\n",
      "region_moray             3.347027\n",
      "glen                     3.356667\n",
      "moorland                 3.362069\n",
      "region_kintail           3.370667\n",
      "region_aberdeenshire     3.370984\n",
      "circular                 3.375370\n",
      "section                  3.376190\n",
      "region_mull              3.378293\n",
      "approach                 3.383158\n",
      "follows                  3.392800\n",
      "region_lochness          3.395098\n",
      "climb                    3.396780\n",
      "way                      3.406286\n",
      "village                  3.409531\n",
      "short                    3.415179\n",
      "return                   3.422520\n",
      "reach                    3.427465\n",
      "castle                   3.428070\n",
      "circuit                  3.430814\n",
      "loch                     3.431488\n",
      "gives                    3.432289\n",
      "around                   3.432527\n",
      "two                      3.432857\n",
      "along                    3.432914\n",
      "enjoyable                3.433137\n",
      "explores                 3.434375\n",
      "region_argyll            3.436489\n",
      "south                    3.437059\n",
      "region_ullapool          3.438793\n",
      "straightforward          3.439851\n",
      "hills                    3.442903\n",
      "heads                    3.445758\n",
      "route                    3.446778\n",
      "returning                3.448649\n",
      "rough                    3.449067\n",
      "walk                     3.449936\n",
      "visits                   3.451687\n",
      "ben                      3.452206\n",
      "side                     3.462131\n",
      "views                    3.463669\n",
      "dist                     3.472748\n",
      "bog_original             3.472748\n",
      "ascent_original          3.472748\n",
      "rating                   3.472748\n",
      "grade_original           3.472748\n",
      "region_lochlomond        3.474444\n",
      "leads                    3.476545\n",
      "road                     3.478391\n",
      "munros                   3.481091\n",
      "region_fortwilliam       3.489732\n",
      "region_angus             3.494400\n",
      "munro_original           3.495169\n",
      "region_arran             3.498788\n",
      "across                   3.500000\n",
      "beinn                    3.501889\n",
      "high                     3.509310\n",
      "long                     3.511220\n",
      "day                      3.528036\n",
      "north                    3.530638\n",
      "climbs                   3.531304\n",
      "sea                      3.532787\n",
      "region_torridon          3.534909\n",
      "steep                    3.536556\n",
      "great                    3.537236\n",
      "explore                  3.540000\n",
      "summit                   3.542705\n",
      "also                     3.542759\n",
      "coastline                3.544143\n",
      "well                     3.544872\n",
      "hill                     3.547000\n",
      "corbett_original         3.548321\n",
      "ascent                   3.551765\n",
      "mountains                3.555309\n",
      "viewpoint                3.556374\n",
      "point                    3.556429\n",
      "-                        3.557039\n",
      "part                     3.557818\n",
      "region_sutherland        3.560980\n",
      "region_skye              3.561846\n",
      "makes                    3.564535\n",
      "fine                     3.571232\n",
      "region_outer-hebrides    3.574576\n",
      "mountain                 3.581628\n",
      "sandy                    3.582941\n",
      "hillwalk                 3.583833\n",
      "ridge                    3.600632\n",
      "impressive               3.601148\n",
      "excellent                3.603663\n",
      "corbett                  3.607547\n",
      "beautiful                3.609400\n",
      "superb                   3.614961\n",
      "highest                  3.630000\n",
      "bay                      3.632593\n",
      "path                     3.636966\n",
      "popular                  3.656275\n",
      "stunning                 3.664762\n",
      "beach                    3.671818\n",
      "region_islay-jura        3.673824\n",
      "coastal                  3.681250\n",
      "one                      3.687257\n",
      "takes                    3.707000\n",
      "rocky                    3.712899\n",
      "region_orkney            3.718667\n",
      "region_islands           3.739677\n",
      "island                   3.744118\n",
      "magnificent              3.747826\n",
      "dramatic                 3.784429\n",
      "spectacular              3.831273\n",
      "scenery                  3.880556\n",
      "finest                   3.922982\n",
      "region_shetland          3.931364\n"
     ]
    }
   ],
   "source": [
    "print(feature_rating.sort_values().to_string())\n",
    "#print(feature_count.sort_values().to_string())"
   ]
  },
  {
   "cell_type": "code",
   "execution_count": 24,
   "id": "4639ba9c",
   "metadata": {},
   "outputs": [],
   "source": [
    "df_rating=pd.DataFrame.from_dict(rating_dict, orient='index',columns=['rating'])\n",
    "df_rating_count=df_rating.join(feature_count.rename('count'))"
   ]
  },
  {
   "cell_type": "code",
   "execution_count": 25,
   "id": "7fd0bb6b",
   "metadata": {},
   "outputs": [],
   "source": [
    "df_rating_count.to_csv('df_rating_count')"
   ]
  },
  {
   "cell_type": "markdown",
   "id": "7f3083fe",
   "metadata": {},
   "source": [
    "let's hypothesis test the features? The problem may well that the data is not normally distributed, althought the plot did look quite good.\n",
    "\n",
    "the models I'm using are not very sensitve to feature selection so I'm not sure it is that valuable to try this "
   ]
  },
  {
   "cell_type": "code",
   "execution_count": null,
   "id": "3dbbfc2d",
   "metadata": {},
   "outputs": [],
   "source": []
  },
  {
   "cell_type": "markdown",
   "id": "4a98be75",
   "metadata": {},
   "source": [
    "# Create a classification version of the data "
   ]
  },
  {
   "cell_type": "code",
   "execution_count": 26,
   "id": "6c7e517a",
   "metadata": {},
   "outputs": [],
   "source": [
    "y_train_class=df_train['rating'].apply(lambda z: floor(z))\n",
    "\n",
    "\n",
    "y_test_class=df_test['rating'].apply(lambda z: floor(z))\n"
   ]
  },
  {
   "cell_type": "code",
   "execution_count": 27,
   "id": "dde039a3",
   "metadata": {},
   "outputs": [
    {
     "name": "stdout",
     "output_type": "stream",
     "text": [
      "3    685\n",
      "4    268\n",
      "2    189\n",
      "5     13\n",
      "1      2\n",
      "Name: rating, dtype: int64\n"
     ]
    }
   ],
   "source": [
    "print(y_train_class.value_counts()) #might be better to split this another way? "
   ]
  },
  {
   "cell_type": "code",
   "execution_count": 28,
   "id": "82e8899b",
   "metadata": {},
   "outputs": [],
   "source": [
    "#df_train[df_train['rating']==5]"
   ]
  },
  {
   "cell_type": "code",
   "execution_count": 29,
   "id": "599e06a6",
   "metadata": {},
   "outputs": [
    {
     "data": {
      "text/plain": [
       "<BarContainer object of 5 artists>"
      ]
     },
     "execution_count": 29,
     "metadata": {},
     "output_type": "execute_result"
    },
    {
     "data": {
      "image/png": "[encoded data removed]",
      "text/plain": [
       "<Figure size 432x288 with 1 Axes>"
      ]
     },
     "metadata": {
      "needs_background": "light"
     },
     "output_type": "display_data"
    }
   ],
   "source": [
    "import matplotlib.pyplot as plt\n",
    "plt.figure()\n",
    "plt.bar(y_train_class.value_counts().index,y_train_class.value_counts().values)"
   ]
  },
  {
   "cell_type": "markdown",
   "id": "915de937",
   "metadata": {},
   "source": [
    "I pic catagories <3 star, 3-4 star and >4 star for the data. without doign this is caues problems in the fitting the model "
   ]
  },
  {
   "cell_type": "code",
   "execution_count": 34,
   "id": "acd56d33",
   "metadata": {},
   "outputs": [
    {
     "name": "stdout",
     "output_type": "stream",
     "text": [
      "1    685\n",
      "2    281\n",
      "0    191\n",
      "Name: rating, dtype: int64\n"
     ]
    }
   ],
   "source": [
    "def group_rating(z):\n",
    "    if z<3:\n",
    "        return 0\n",
    "    if 3<=z<4:\n",
    "        return 1\n",
    "    else:\n",
    "        return 2\n",
    "\n",
    "\n",
    "y_train_class=df_train['rating'].apply(lambda z:  group_rating(z))\n",
    "\n",
    "\n",
    "y_test_class=df_test['rating'].apply(lambda z: group_rating(z))\n",
    "\n",
    "print(y_train_class.value_counts())"
   ]
  },
  {
   "cell_type": "code",
   "execution_count": 35,
   "id": "54f410f6",
   "metadata": {},
   "outputs": [],
   "source": [
    "y_train_class.to_csv('y_train_class.csv')\n",
    "y_test_class.to_csv('y_test_class.csv')"
   ]
  },
  {
   "cell_type": "markdown",
   "id": "9bfdce22",
   "metadata": {},
   "source": [
    "# Binary rating"
   ]
  },
  {
   "cell_type": "code",
   "execution_count": 39,
   "id": "a0639b05",
   "metadata": {},
   "outputs": [
    {
     "name": "stdout",
     "output_type": "stream",
     "text": [
      "0    876\n",
      "1    281\n",
      "Name: rating, dtype: int64\n"
     ]
    }
   ],
   "source": [
    "def binary_rating(z):\n",
    "    if z<4:\n",
    "        return 0\n",
    "    else:\n",
    "        return 1\n",
    "\n",
    "\n",
    "y_train_binary=df_train['rating'].apply(lambda z:  binary_rating(z))\n",
    "\n",
    "\n",
    "y_test_binary=df_test['rating'].apply(lambda z: binary_rating(z))\n",
    "\n",
    "print(y_train_binary.value_counts())"
   ]
  },
  {
   "cell_type": "code",
   "execution_count": 37,
   "id": "0d89fa03",
   "metadata": {},
   "outputs": [],
   "source": [
    "y_train_binary.to_csv('y_train_binary.csv')\n",
    "y_test_binary.to_csv('y_test_binary.csv')"
   ]
  },
  {
   "cell_type": "code",
   "execution_count": 40,
   "id": "3d46748c",
   "metadata": {},
   "outputs": [
    {
     "data": {
      "text/plain": [
       "array([1, 0], dtype=int64)"
      ]
     },
     "execution_count": 40,
     "metadata": {},
     "output_type": "execute_result"
    }
   ],
   "source": [
    "y_train_binary.unique()"
   ]
  },
  {
   "cell_type": "code",
   "execution_count": 2,
   "id": "240fecc0",
   "metadata": {},
   "outputs": [
    {
     "data": {
      "text/plain": [
       "0.2428694900605013"
      ]
     },
     "execution_count": 2,
     "metadata": {},
     "output_type": "execute_result"
    }
   ],
   "source": [
    "281/(281+876) # not too imbalanced "
   ]
  },
  {
   "cell_type": "code",
   "execution_count": null,
   "id": "c4f83091",
   "metadata": {},
   "outputs": [],
   "source": []
  }
 ],
 "metadata": {
  "kernelspec": {
   "display_name": "Python 3 (ipykernel)",
   "language": "python",
   "name": "python3"
  },
  "language_info": {
   "codemirror_mode": {
    "name": "ipython",
    "version": 3
   },
   "file_extension": ".py",
   "mimetype": "text/x-python",
   "name": "python",
   "nbconvert_exporter": "python",
   "pygments_lexer": "ipython3",
   "version": "3.9.12"
  }
 },
 "nbformat": 4,
 "nbformat_minor": 5
}
