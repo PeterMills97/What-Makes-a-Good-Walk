{
 "cells": [
  {
   "cell_type": "markdown",
   "id": "f54e3eec",
   "metadata": {},
   "source": [
    "# Predicting the Rating"
   ]
  },
  {
   "cell_type": "code",
   "execution_count": 1,
   "id": "ea9f1afb",
   "metadata": {},
   "outputs": [],
   "source": [
    "import pandas as pd\n",
    "import numpy as np\n",
    "import matplotlib.pyplot as plt\n",
    "\n",
    "from sklearn.preprocessing import StandardScaler, MinMaxScaler,OneHotEncoder, LabelEncoder\n",
    "from sklearn.metrics import mean_squared_error, roc_auc_score, precision_score, recall_score, roc_curve, PrecisionRecallDisplay,precision_recall_curve\n",
    "from sklearn.ensemble import RandomForestRegressor, RandomForestClassifier \n",
    "from sklearn.dummy import DummyRegressor, DummyClassifier\n",
    "from sklearn.pipeline import Pipeline, make_pipeline\n",
    "from sklearn.model_selection import GridSearchCV\n",
    "\n",
    "from xgboost import XGBRegressor, XGBClassifier"
   ]
  },
  {
   "cell_type": "markdown",
   "id": "bcd4fa2b",
   "metadata": {},
   "source": [
    "Import the scraped and processed data. The reduced_features excludes the key word features, this is used for comparison."
   ]
  },
  {
   "cell_type": "code",
   "execution_count": 2,
   "id": "85ef8073",
   "metadata": {},
   "outputs": [],
   "source": [
    "df_train=pd.read_csv('df_train.csv',index_col=0)\n",
    "df_test=pd.read_csv('df_test.csv',index_col=0)\n",
    "\n",
    "X_train=df_train.drop('rating',axis=1)\n",
    "y_train=df_train['rating']\n",
    "\n",
    "X_test=df_test.drop('rating',axis=1)\n",
    "y_test=df_test['rating']\n",
    "\n",
    "reduced_features=['dist','ascent_original','corbett_original','munro_original','grade_original','bog_original','region_aberdeenshire',\n",
    " 'region_angus','region_argyll','region_arran','region_cairngorms','region_fortwilliam','region_islands','region_islay-jura',\n",
    " 'region_kintail','region_lochlomond','region_lochness','region_moray','region_mull','region_orkney','region_outer-hebrides',\n",
    " 'region_perthshire','region_shetland','region_skye','region_sutherland','region_torridon','region_ullapool']\n",
    "\n",
    "X_train_reduced=X_train[reduced_features]\n",
    "X_test_reduced=X_test[reduced_features]\n"
   ]
  },
  {
   "cell_type": "markdown",
   "id": "839f032e",
   "metadata": {},
   "source": [
    "# Regression Approach"
   ]
  },
  {
   "cell_type": "markdown",
   "id": "1ea77613",
   "metadata": {},
   "source": [
    "Dummy Regressor as a benchmark"
   ]
  },
  {
   "cell_type": "code",
   "execution_count": 3,
   "id": "0e0d4645",
   "metadata": {},
   "outputs": [
    {
     "name": "stdout",
     "output_type": "stream",
     "text": [
      "train_error: 0.5775009941808824\n",
      "test_error: 0.5863082156825604\n"
     ]
    }
   ],
   "source": [
    "dummy_regr = DummyRegressor(strategy=\"mean\")\n",
    "dummy_regr.fit(X_train, y_train)\n",
    "y_predict_train=dummy_regr.predict(X_train)\n",
    "y_predict=dummy_regr.predict(X_test)\n",
    "\n",
    "print('train_error:',mean_squared_error(y_predict_train,y_train,squared=False))\n",
    "print('test_error:',mean_squared_error(y_predict,y_test,squared=False))"
   ]
  },
  {
   "cell_type": "markdown",
   "id": "ff431068",
   "metadata": {},
   "source": [
    "Create Piplines:"
   ]
  },
  {
   "cell_type": "code",
   "execution_count": 4,
   "id": "fe93429a",
   "metadata": {},
   "outputs": [],
   "source": [
    "pipelines={\n",
    "    'rf': make_pipeline(RandomForestRegressor()),\n",
    "    'xgb': make_pipeline(XGBRegressor())\n",
    "}"
   ]
  },
  {
   "cell_type": "code",
   "execution_count": 5,
   "id": "37de914c",
   "metadata": {},
   "outputs": [
    {
     "name": "stdout",
     "output_type": "stream",
     "text": [
      "Key Words used:\n",
      "rf 0.20266127295501624 0.5360910718875226\n",
      "xgb 0.08241249107392869 0.5624033976531516\n",
      "Key Words not used:\n",
      "rf 0.2190843658530786 0.5915834282255948\n",
      "xgb 0.16981489163998792 0.6652050347082112\n"
     ]
    }
   ],
   "source": [
    "for feats, train, test in [['Key Words used:',X_train,X_test],\n",
    "                                  ['Key Words not used:',X_train_reduced,X_test_reduced]]:\n",
    "    print(feats)\n",
    "    for name, estimator in pipelines.items():\n",
    "        estimator.fit(train,y_train)\n",
    "        y_predict_train=estimator.predict(train)\n",
    "        y_predict=estimator.predict(test)\n",
    "\n",
    "        train_error=mean_squared_error(y_predict_train,y_train,squared=False)\n",
    "        test_error=mean_squared_error(y_predict,y_test,squared=False)\n",
    "        print(name, train_error,test_error)"
   ]
  },
  {
   "cell_type": "markdown",
   "id": "50ea9994",
   "metadata": {},
   "source": [
    "We can see here that the key words are improving the models but niether are outperforming the dummy by any significant degree. "
   ]
  },
  {
   "cell_type": "markdown",
   "id": "71d34651",
   "metadata": {},
   "source": [
    "## Hyperparameter tuning"
   ]
  },
  {
   "cell_type": "code",
   "execution_count": 6,
   "id": "e18760ae",
   "metadata": {},
   "outputs": [],
   "source": [
    "#grids are commented out to save run time \n",
    "rf_params={'randomforestregressor__n_estimators':[200],#[100,200],\n",
    "           'randomforestregressor__max_depth':[6],#[5,6],\n",
    "           'randomforestregressor__max_leaf_nodes':[30],#[20,30],\n",
    "           'randomforestregressor__min_samples_split':[2],#[2,5,10],\n",
    "           'randomforestregressor__min_samples_leaf':[5],#[1,5,10],\n",
    "          'randomforestregressor__random_state':[0]}\n",
    "\n",
    "\n",
    "\n",
    "\n",
    "xgb_params={'xgbregressor__eta': [0.1],#[0.1,0.15],\n",
    "           'xgbregressor__max_depth':[2],#[2,3,4],\n",
    "           'xgbregressor__min_child_weight':[10],#[1,5,10],\n",
    "           'xgbregressor__lambda':[1],#[1,5,10],\n",
    "           'xgbregressor__alpha':[0]#[0,1,5]\n",
    "           }\n",
    "\n",
    "param_grid={'rf':rf_params,\n",
    "           'xgb':xgb_params}"
   ]
  },
  {
   "cell_type": "code",
   "execution_count": 7,
   "id": "0956e663",
   "metadata": {},
   "outputs": [
    {
     "name": "stdout",
     "output_type": "stream",
     "text": [
      "fitting rf\n",
      "fitting xgb\n"
     ]
    }
   ],
   "source": [
    "tuned_models={}\n",
    "\n",
    "for name, estimator in pipelines.items():\n",
    "    print('fitting',name)\n",
    "    tuned_model=GridSearchCV(estimator,param_grid=param_grid[name],scoring='neg_root_mean_squared_error')\n",
    "    tuned_model.fit(X_train, y_train)\n",
    "    tuned_models[name]=tuned_model"
   ]
  },
  {
   "cell_type": "code",
   "execution_count": 8,
   "id": "645c92fa",
   "metadata": {},
   "outputs": [
    {
     "name": "stdout",
     "output_type": "stream",
     "text": [
      "rf 0.4869182591929581 0.5463042835930123\n",
      "xgb 0.42867997262933466 0.5297117585362126\n"
     ]
    }
   ],
   "source": [
    "for name, model in tuned_models.items():\n",
    "    y_predict_train=tuned_models[name].predict(X_train)\n",
    "    y_predict=tuned_models[name].predict(X_test)\n",
    "    train_error=mean_squared_error(y_predict_train,y_train,squared=False)\n",
    "    test_error=mean_squared_error(y_predict,y_test,squared=False)\n",
    "    print(name,train_error,test_error)\n",
    "        "
   ]
  },
  {
   "cell_type": "code",
   "execution_count": 9,
   "id": "b4fd7038",
   "metadata": {},
   "outputs": [
    {
     "name": "stdout",
     "output_type": "stream",
     "text": [
      "rf {'randomforestregressor__max_depth': 6, 'randomforestregressor__max_leaf_nodes': 30, 'randomforestregressor__min_samples_leaf': 5, 'randomforestregressor__min_samples_split': 2, 'randomforestregressor__n_estimators': 200, 'randomforestregressor__random_state': 0}\n",
      "xgb {'xgbregressor__alpha': 0, 'xgbregressor__eta': 0.1, 'xgbregressor__lambda': 1, 'xgbregressor__max_depth': 2, 'xgbregressor__min_child_weight': 10}\n"
     ]
    }
   ],
   "source": [
    "for name, model in tuned_models.items():\n",
    "    print(name, model.best_params_)"
   ]
  },
  {
   "cell_type": "raw",
   "id": "bb100592",
   "metadata": {},
   "source": [
    "We can see that the regression appraoch has not yielded a satisfactory result even after tuning, now we can move onto classification. "
   ]
  },
  {
   "cell_type": "markdown",
   "id": "3f8d555a",
   "metadata": {},
   "source": [
    "# Classification Approach"
   ]
  },
  {
   "cell_type": "markdown",
   "id": "a9156558",
   "metadata": {},
   "source": [
    "## MultiClass Case"
   ]
  },
  {
   "cell_type": "markdown",
   "id": "5c3f97ee",
   "metadata": {},
   "source": [
    "Here we are trying to identify which of 5 classes the data sits in (ratings 1-2, 2-3, 3-4, 4-5). We can see we have more sucess here than with regression but it is still worth simplifying the task."
   ]
  },
  {
   "cell_type": "code",
   "execution_count": 10,
   "id": "66fd3ffe",
   "metadata": {},
   "outputs": [],
   "source": [
    "y_train_class=pd.read_csv('y_train_class.csv',index_col=0).to_numpy().reshape(-1,)\n",
    "y_test_class=pd.read_csv('y_test_class.csv',index_col=0).to_numpy().reshape(-1,)"
   ]
  },
  {
   "cell_type": "code",
   "execution_count": 11,
   "id": "14876e4b",
   "metadata": {},
   "outputs": [],
   "source": [
    "pipelines_class={\n",
    "    'rf_class': make_pipeline(RandomForestClassifier()),\n",
    "    'xgb_class': make_pipeline(XGBClassifier())\n",
    "}"
   ]
  },
  {
   "cell_type": "code",
   "execution_count": 12,
   "id": "5a5407ba",
   "metadata": {},
   "outputs": [
    {
     "name": "stdout",
     "output_type": "stream",
     "text": [
      "Key Words used:\n",
      "rf_class 1.0 0.6378198342159639\n",
      "xgb_class 1.0 0.6353970068858424\n",
      "Key Words not used:\n",
      "rf_class 1.0 0.6137033174238818\n",
      "xgb_class 0.99941563370989 0.6176182778034898\n"
     ]
    }
   ],
   "source": [
    "for feats, train, test in [['Key Words used:',X_train,X_test],\n",
    "                                  ['Key Words not used:',X_train_reduced,X_test_reduced]]:\n",
    "    print(feats)\n",
    "    for name, classifier in pipelines_class.items():\n",
    "        classifier.fit(train,y_train_class)\n",
    "        y_predict_train=classifier.predict_proba(train)\n",
    "        y_predict=classifier.predict_proba(test)\n",
    "\n",
    "        print(name, roc_auc_score(y_train_class, y_predict_train, multi_class='ovr'),\n",
    "              roc_auc_score(y_test_class, y_predict, multi_class='ovr'))\n",
    "    "
   ]
  },
  {
   "cell_type": "code",
   "execution_count": 13,
   "id": "4d67eb67",
   "metadata": {},
   "outputs": [],
   "source": [
    "rf_params={'randomforestclassifier__n_estimators':[100,200],\n",
    "           'randomforestclassifier__max_depth':[2,3,4],\n",
    "           'randomforestclassifier__max_leaf_nodes':[10,20],\n",
    "           'randomforestclassifier__min_samples_split':[2,5,10],\n",
    "           'randomforestclassifier__min_samples_leaf':[1,5,10],\n",
    "          'randomforestclassifier__random_state':[0]}\n",
    "\n",
    "\n",
    "\n",
    "\n",
    "xgb_params={'xgbclassifier__eta': [0.1,0.2],\n",
    "           'xgbclassifier__max_depth':[2,3,4],\n",
    "           'xgbclassifier__min_child_weight':[1,5],\n",
    "           'xgbclassifier__reg_lambda':[1,5,10],\n",
    "           'xgbclassifier__reg_alpha':[0,5,10]\n",
    "           }\n",
    "\n",
    "param_grid={'rf_class':rf_params,\n",
    "           'xgb_class':xgb_params}"
   ]
  },
  {
   "cell_type": "code",
   "execution_count": 14,
   "id": "13e44335",
   "metadata": {},
   "outputs": [
    {
     "name": "stdout",
     "output_type": "stream",
     "text": [
      "fitting rf_class\n",
      "fitting xgb_class\n"
     ]
    }
   ],
   "source": [
    "tuned_classifiers={}\n",
    "for name, classifier in pipelines_class.items():\n",
    "    print('fitting',name)\n",
    "    tuned_model=GridSearchCV(classifier,param_grid=param_grid[name],scoring='roc_auc_ovr')\n",
    "    tuned_model.fit(X_train, y_train_class)\n",
    "    tuned_classifiers[name]=tuned_model"
   ]
  },
  {
   "cell_type": "code",
   "execution_count": 15,
   "id": "8ae732d7",
   "metadata": {},
   "outputs": [
    {
     "name": "stdout",
     "output_type": "stream",
     "text": [
      "rf_class 0.812608767140666 0.639125849531725\n",
      "xgb_class 0.917377919685924 0.6466403045664879\n"
     ]
    }
   ],
   "source": [
    "for name, classifier in tuned_classifiers.items():\n",
    "    #estimator.fit(X_train,y_train_class)\n",
    "    y_predict_train=classifier.predict_proba(X_train)\n",
    "    y_predict=classifier.predict_proba(X_test)\n",
    "\n",
    "    print(name, roc_auc_score(y_train_class, y_predict_train, multi_class='ovr'),\n",
    "          roc_auc_score(y_test_class, y_predict, multi_class='ovr'))"
   ]
  },
  {
   "cell_type": "code",
   "execution_count": 16,
   "id": "d8944fb9",
   "metadata": {},
   "outputs": [
    {
     "name": "stdout",
     "output_type": "stream",
     "text": [
      "{'randomforestclassifier__max_depth': 4, 'randomforestclassifier__max_leaf_nodes': 10, 'randomforestclassifier__min_samples_leaf': 1, 'randomforestclassifier__min_samples_split': 10, 'randomforestclassifier__n_estimators': 200, 'randomforestclassifier__random_state': 0}\n",
      "{'xgbclassifier__eta': 0.1, 'xgbclassifier__max_depth': 2, 'xgbclassifier__min_child_weight': 1, 'xgbclassifier__reg_alpha': 0, 'xgbclassifier__reg_lambda': 1}\n"
     ]
    }
   ],
   "source": [
    "print(tuned_classifiers['rf_class'].best_params_)\n",
    "print(tuned_classifiers['xgb_class'].best_params_)"
   ]
  },
  {
   "cell_type": "markdown",
   "id": "81656f0a",
   "metadata": {},
   "source": [
    "## Binary Case"
   ]
  },
  {
   "cell_type": "markdown",
   "id": "899acc76",
   "metadata": {},
   "source": [
    "Now we are only attempting to classify walks based on whether the rating is greater or less than 4, we have more succes. "
   ]
  },
  {
   "cell_type": "code",
   "execution_count": 17,
   "id": "98433055",
   "metadata": {},
   "outputs": [],
   "source": [
    "y_train_binary=pd.read_csv('y_train_binary.csv',index_col=0).to_numpy().reshape(-1,)\n",
    "y_test_binary=pd.read_csv('y_test_binary.csv',index_col=0).to_numpy().reshape(-1,)\n"
   ]
  },
  {
   "cell_type": "code",
   "execution_count": 18,
   "id": "a4962161",
   "metadata": {},
   "outputs": [],
   "source": [
    "pipelines_binary={\n",
    "    'rf_class': make_pipeline(RandomForestClassifier()),\n",
    "    'xgb_class': make_pipeline(XGBClassifier())}"
   ]
  },
  {
   "cell_type": "code",
   "execution_count": 19,
   "id": "efc7195d",
   "metadata": {},
   "outputs": [
    {
     "name": "stdout",
     "output_type": "stream",
     "text": [
      "Key Words used:\n",
      "rf_class 1.0 0.6862499502962346\n",
      "xgb_class 0.9999918750710931 0.6915185494453059\n",
      "Key Words not used:\n",
      "rf_class 1.0 0.6458706111575012\n",
      "xgb_class 0.9938880222298054 0.6608016223309078\n"
     ]
    }
   ],
   "source": [
    "for feats, train, test in [['Key Words used:',X_train,X_test],\n",
    "                                  ['Key Words not used:',X_train_reduced,X_test_reduced]]:\n",
    "    print(feats)\n",
    "\n",
    "    for name, classifier in pipelines_binary.items():\n",
    "        classifier.fit(train,y_train_binary)\n",
    "        y_predict_train=classifier.predict_proba(train)[:, 1]\n",
    "        y_predict=classifier.predict_proba(test)[:, 1]\n",
    "        #print(y_predict_train)\n",
    "\n",
    "        print(name, roc_auc_score(y_train_binary, y_predict_train),roc_auc_score(y_test_binary, y_predict))"
   ]
  },
  {
   "cell_type": "code",
   "execution_count": 20,
   "id": "7a5a43b3",
   "metadata": {},
   "outputs": [],
   "source": [
    "rf_params={'randomforestclassifier__n_estimators':[100,200],\n",
    "           'randomforestclassifier__max_depth':[2,3],\n",
    "           'randomforestclassifier__max_leaf_nodes':[10,20],\n",
    "           'randomforestclassifier__min_samples_split':[2,5],\n",
    "           'randomforestclassifier__min_samples_leaf':[1,5],\n",
    "          'randomforestclassifier__random_state':[0]}\n",
    "\n",
    "\n",
    "\n",
    "\n",
    "xgb_params={'xgbclassifier__eta': [0.1,0.15],\n",
    "           'xgbclassifier__max_depth':[2,3],\n",
    "           'xgbclassifier__min_child_weight':[1,5],\n",
    "           'xgbclassifier__reg_lambda':[1,5],\n",
    "           'xgbclassifier__reg_alpha':[0,1]\n",
    "           }\n",
    "\n",
    "param_grid={'rf_class':rf_params,\n",
    "           'xgb_class':xgb_params}"
   ]
  },
  {
   "cell_type": "code",
   "execution_count": 23,
   "id": "f38052cb",
   "metadata": {},
   "outputs": [
    {
     "name": "stdout",
     "output_type": "stream",
     "text": [
      "fitting rf_class\n",
      "fitting xgb_class\n"
     ]
    }
   ],
   "source": [
    "tuned_classifiers={}\n",
    "for name, classifier in pipelines_binary.items():\n",
    "    print('fitting',name)\n",
    "    tuned_model=GridSearchCV(classifier,param_grid=param_grid[name],scoring='roc_auc')\n",
    "    tuned_model.fit(X_train, y_train_binary)\n",
    "    tuned_classifiers[name]=tuned_model"
   ]
  },
  {
   "cell_type": "code",
   "execution_count": 24,
   "id": "3d5c9e53",
   "metadata": {},
   "outputs": [
    {
     "name": "stdout",
     "output_type": "stream",
     "text": [
      "rf_class 0.8147475584588635 0.676010974591435\n",
      "xgb_class 0.8558596987276362 0.7023738518430156\n"
     ]
    }
   ],
   "source": [
    "for name, classifier in tuned_classifiers.items():\n",
    "    #estimator.fit(X_train,y_train_class)\n",
    "    y_predict_train=classifier.predict_proba(X_train)[:, 1]\n",
    "    y_predict=classifier.predict_proba(X_test)[:, 1]\n",
    "\n",
    "    print(name, roc_auc_score(y_train_binary, y_predict_train),\n",
    "          roc_auc_score(y_test_binary, y_predict))\n",
    "    "
   ]
  },
  {
   "cell_type": "code",
   "execution_count": 29,
   "id": "9ebf83ef",
   "metadata": {},
   "outputs": [
    {
     "data": {
      "image/png": "[encoded data removed]",
      "text/plain": [
       "<Figure size 432x288 with 1 Axes>"
      ]
     },
     "metadata": {
      "needs_background": "light"
     },
     "output_type": "display_data"
    }
   ],
   "source": [
    "colors={'rf_class':'b','xgb_class':'r'}\n",
    "for name, classifier in tuned_classifiers.items():\n",
    "    #estimator.fit(X_train,y_train_class)\n",
    "    y_predict=classifier.predict_proba(X_test)[:, 1]\n",
    "    fpr, tpr, threshold=roc_curve(y_test_binary, y_predict)\n",
    "    #roc_auc = metrics.auc(fpr, tpr)\n",
    "    plt.plot(fpr, tpr,colors[name])\n",
    "    #plt.title('Random forrest vs XGBoost')\n",
    "    plt.ylabel('True Positive Rate')\n",
    "    plt.xlabel('False Positive Rate')\n",
    "    plt.legend(['Random Forest','XGBoost'])\n",
    "plt.plot([0, 1], [0, 1],'--',color='grey')\n",
    "plt.show()"
   ]
  },
  {
   "cell_type": "code",
   "execution_count": 28,
   "id": "c2b02bb6",
   "metadata": {},
   "outputs": [
    {
     "data": {
      "image/png": "[encoded data removed]",
      "text/plain": [
       "<Figure size 432x288 with 1 Axes>"
      ]
     },
     "metadata": {
      "needs_background": "light"
     },
     "output_type": "display_data"
    }
   ],
   "source": [
    "no_skill=len(y_test_binary[y_test_binary==1])/len(y_test_binary)\n",
    "colors={'rf_class':'b','xgb_class':'r'}\n",
    "\n",
    "plt.figure()\n",
    "\n",
    "plt.xlim([0.0, 1.0])\n",
    "plt.ylim([0.0, 1.05])\n",
    "\n",
    "for name, classifier in tuned_classifiers.items():\n",
    "    precision, recall, _ = precision_recall_curve(y_test_binary,classifier.predict_proba(X_test)[:, 1])\n",
    "    plt.plot(recall,precision,color=colors[name])\n",
    "    \n",
    "plt.plot([0,1],[no_skill,no_skill],label='No Skill', color='grey')\n",
    "plt.legend(['Random Forest','XGBoost','No_skill'])\n",
    "plt.xlabel('Recall')\n",
    "plt.ylabel('Precision')\n",
    "plt.show()"
   ]
  },
  {
   "cell_type": "code",
   "execution_count": null,
   "id": "a9d7d5df",
   "metadata": {},
   "outputs": [],
   "source": []
  }
 ],
 "metadata": {
  "kernelspec": {
   "display_name": "Python 3 (ipykernel)",
   "language": "python",
   "name": "python3"
  },
  "language_info": {
   "codemirror_mode": {
    "name": "ipython",
    "version": 3
   },
   "file_extension": ".py",
   "mimetype": "text/x-python",
   "name": "python",
   "nbconvert_exporter": "python",
   "pygments_lexer": "ipython3",
   "version": "3.9.12"
  }
 },
 "nbformat": 4,
 "nbformat_minor": 5
}
