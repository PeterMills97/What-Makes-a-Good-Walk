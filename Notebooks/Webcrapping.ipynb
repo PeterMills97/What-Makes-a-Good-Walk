{
 "cells": [
  {
   "cell_type": "markdown",
   "id": "14141b3c",
   "metadata": {},
   "source": [
    "# Webscraping form Walkhighlands \n"
   ]
  },
  {
   "cell_type": "markdown",
   "id": "fabece4d",
   "metadata": {},
   "source": [
    "Most of the walk pages I'm interested in on the walkhighlands use relative URLs with the format base/region/walk-name. Unfortunately, there is no one list given on the site so I need to scrape multiple pages: first the home page, then region specific pages (Sutherland, Torridon, ect), then finally area pages (which the region pages are split up into). Note: only highlands and islands links are used."
   ]
  },
  {
   "cell_type": "code",
   "execution_count": 1,
   "id": "158026f8",
   "metadata": {},
   "outputs": [],
   "source": [
    "import pandas as pd\n",
    "import numpy as np\n",
    "from bs4 import BeautifulSoup as bs\n",
    "import requests\n",
    "import re"
   ]
  },
  {
   "cell_type": "code",
   "execution_count": 3,
   "id": "3aa88e01",
   "metadata": {},
   "outputs": [],
   "source": [
    "#used to find the right region to search (manually as there are not many to worry about here)\n",
    "home=bs(requests.get('https://www.walkhighlands.co.uk/').content, \"html.parser\")\n",
    "home_links=[a.get('href') for a in home.find_all('a') if a.get('href')!='#']\n",
    "print(home_links)"
   ]
  },
  {
   "cell_type": "markdown",
   "id": "4ede3437",
   "metadata": {},
   "source": [
    "I 'scraped' the region names from the home_links by copy and paste, this was efficient as the list I'm interested in is short."
   ]
  },
  {
   "cell_type": "code",
   "execution_count": 3,
   "id": "15c409dc",
   "metadata": {},
   "outputs": [],
   "source": [
    "walkhighlands_link='https://www.walkhighlands.co.uk'\n",
    "\n",
    "region_links=['/sutherland/', '/ullapool/', '/torridon/', '/kintail/', '/lochness/', '/moray/', '/fortwilliam/', \n",
    "           '/cairngorms/', '/perthshire/', '/argyll/', '/lochlomond/', '/aberdeenshire/', '/angus/', '/skye/', \n",
    "           '/mull/', '/outer-hebrides/', '/arran/', '/islands/', '/islay-jura/', '/orkney/', '/shetland/']\n"
   ]
  },
  {
   "cell_type": "markdown",
   "id": "0bed85d8",
   "metadata": {},
   "source": [
    "Using each region link, the find_areas function scrapes the page for all the area page links, which it returns as a string"
   ]
  },
  {
   "cell_type": "code",
   "execution_count": 4,
   "id": "197c2047",
   "metadata": {},
   "outputs": [],
   "source": [
    "def find_areas(regions):\n",
    "    base='https://www.walkhighlands.co.uk'\n",
    "    area_pages=[]\n",
    "    for region in regions:\n",
    "        url=base+region\n",
    "        soup=bs(requests.get(url).content,'html.parser')\n",
    "        text=soup.find('tbody')\n",
    "        area_pages+=[url+a.get('href') for a in text.find_all('a') \n",
    "                     if a.get('href')!='../grade.shtml'and a.get('href')!=None ]\n",
    "    return area_pages\n"
   ]
  },
  {
   "cell_type": "markdown",
   "id": "8b944c04",
   "metadata": {},
   "source": [
    "find_walks scrapes each area page for pages containing specific walks. The arguments passed are two lists, the first containing the urls for the area pages to be scraped, the second containing href that need to be excluded."
   ]
  },
  {
   "cell_type": "code",
   "execution_count": 5,
   "id": "629c049f",
   "metadata": {},
   "outputs": [],
   "source": [
    "def find_walks(areas, href):\n",
    "    walk_links=[]\n",
    "    for area in areas:\n",
    "        url=re.findall('https://www.walkhighlands.co.uk/[a-z-]*', area)[0]+'/' #strip .shtml\n",
    "        soup=bs(requests.get(area).content,'html.parser')\n",
    "        text=soup.find('tbody')\n",
    "        try:\n",
    "            walk_links+=[url+a.get('href') for a in text.find_all('a') if a.get('href') not in href \n",
    "                          and re.match('[a-zA-Z-]*.shtml', a.get('href'))]\n",
    "        except:\n",
    "            #print(area) #find any problematic walk links \n",
    "            pass\n",
    "            \n",
    "    \n",
    "        try:\n",
    "            walk_links+=[base+a.get('href') for a in text.find_all('a') if a.get('href') not in href \n",
    "                          and re.match('/[a-zA-Z-]*/[a-zA-Z-]*.shtml', a.get('href'))]\n",
    "        \n",
    "        except:\n",
    "            #print(area) #find any problematic walk links\n",
    "            pass\n",
    "             \n",
    "    \n",
    "    return walk_links\n",
    "    "
   ]
  },
  {
   "cell_type": "markdown",
   "id": "9eb6d7fa",
   "metadata": {},
   "source": [
    "This cell defines the list of href to exclude. The initial list was generated debugging by hand, then the loop searches for lond distance walking route to exclude. I chose to exclude long distance hikes as the walk highlands pages for them are not exactly comparible with the regular day hikes. "
   ]
  },
  {
   "cell_type": "code",
   "execution_count": 4,
   "id": "a28f36c9",
   "metadata": {},
   "outputs": [
    {
     "data": {
      "text/plain": [
       "'for href in excluded_href:\\n    print(href)'"
      ]
     },
     "execution_count": 4,
     "metadata": {},
     "output_type": "execute_result"
    }
   ],
   "source": [
    "soup=bs(requests.get('https://www.walkhighlands.co.uk/long-distance-routes.shtml').content,'html.parser')\n",
    "#print(soup.prettify())\n",
    "text=soup.find('tbody')\n",
    "links=text.find_all('a')\n",
    "excluded_href=['../grade.shtml','#','/lochness/south-loch-ness-trail.shtml',\n",
    "               'affric-kintail-way.shtml','/lochness/affric-kintail-way.shtml','moray/dava-way.shtml','dava-way.shtml',\n",
    "              'moray-coast-trail.shtml','cateran-trail.shtml','cowal-way.shtml','kintyre-way.shtml'\n",
    "               ,'west-island-way.shtml','three-lochs-way.shtml','formartine-buchan-way.shtml','skye-trail.shtml',\n",
    "              'hebridean-way.shtml','arran-coastal-way.shtml']\n",
    "\n",
    "for link in links:\n",
    "    href=link.get('href')\n",
    "    #print(type(href))\n",
    "    excluded_href+=[href, '/'+href]\n",
    "\n",
    "'''for href in excluded_href:\n",
    "    print(href)'''"
   ]
  },
  {
   "cell_type": "markdown",
   "id": "8581ad3c",
   "metadata": {},
   "source": [
    "The final function required is get_walk_features, which scrapes the individual walk pages for information about each walk."
   ]
  },
  {
   "cell_type": "code",
   "execution_count": 7,
   "id": "f4776081",
   "metadata": {},
   "outputs": [],
   "source": [
    "def get_walk_features(walk_link):\n",
    "    walk=bs(requests.get(walk_link).content, 'html.parser')\n",
    "    table=str(walk.find_all('dl'))\n",
    "    \n",
    "    name=walk.find('h1', {'itemprop':'name'}).string\n",
    "    info=walk.find('p', {'itemprop':\"description\"}).string\n",
    "    region=re.findall('/[a-zA-Z-]{1,100}/',walk_link)[0].strip('/')\n",
    "    dist=float(re.findall('[0-9.]*km',table)[0].strip('km'))\n",
    "    ascent=float(re.findall('[0-9]{1,6}m ',table)[0].strip('m '))\n",
    "    corbett=len(re.findall('<dt>Corbett</dt>',table))\n",
    "    munro=len(re.findall('<dt>Munro</dt>',table))\n",
    "    grade=len(walk.find_all(src=\"//d3teiib5p3f439.cloudfront.net/images/boot.gif\"))\n",
    "    bog=len(walk.find_all(src=\"//d3teiib5p3f439.cloudfront.net/images/reed.gif\"))\n",
    "    rating=float(walk.find('span',{'itemprop':\"ratingValue\"}).string)\n",
    "    \n",
    "    array=[name,info,region,dist,ascent,corbett,munro,grade,bog,rating]\n",
    "    return array"
   ]
  },
  {
   "cell_type": "markdown",
   "id": "cf232d1a",
   "metadata": {},
   "source": [
    "Finally I can run each of my fucntions in sequence to give me an array that I can turn into an DataFrame "
   ]
  },
  {
   "cell_type": "code",
   "execution_count": 8,
   "id": "f4140b2d",
   "metadata": {},
   "outputs": [],
   "source": [
    "walk_pages=find_walks(find_areas(region_links), excluded_href)"
   ]
  },
  {
   "cell_type": "code",
   "execution_count": 14,
   "id": "6c60e27f",
   "metadata": {},
   "outputs": [],
   "source": [
    "final_array=[]\n",
    "for page in walk_pages:\n",
    "    final_array+=[get_walk_features(page)]"
   ]
  },
  {
   "cell_type": "code",
   "execution_count": 16,
   "id": "03850f2c",
   "metadata": {},
   "outputs": [],
   "source": [
    "df=pd.DataFrame(final_array, columns=['name','info','region','dist','ascent','corbett','munro','grade','bog','rating'])"
   ]
  },
  {
   "cell_type": "code",
   "execution_count": 20,
   "id": "b34271fb",
   "metadata": {},
   "outputs": [
    {
     "name": "stdout",
     "output_type": "stream",
     "text": [
      "                                                 name  \\\n",
      "0           Ceannabeinne Township Trail, near Durness   \n",
      "1                Forsinard Flows and Tower, Forsinard   \n",
      "2                                  Borgie Forest walk   \n",
      "3                                       Melvich Beach   \n",
      "4                           Portskerra pier and jetty   \n",
      "...                                               ...   \n",
      "1565  Da Kame, Da Sneug & Da Noup: the complete Foula   \n",
      "1566         Fair Isle North Lighthouse & Observatory   \n",
      "1567                             Ward Hill, Fair Isle   \n",
      "1568         Malcolm's Head and Sheep Rock, Fair Isle   \n",
      "1569                  The Complete Fair Isle explorer   \n",
      "\n",
      "                                                   info      region   dist  \\\n",
      "0     This short walk round the site of an abandoned...  sutherland    1.0   \n",
      "1     This short but truly unique walk gives a fasci...  sutherland    1.5   \n",
      "2     This short forestry walk briefly follows the R...  sutherland   1.75   \n",
      "3     This short walk leads out to Melvich Beach - o...  sutherland   1.75   \n",
      "4     This short loop links the pier and the jetty a...  sutherland    2.0   \n",
      "...                                                 ...         ...    ...   \n",
      "1565  This magnificent walk takes in the main summit...    shetland   13.0   \n",
      "1566  This short, easy ramble follows the road from ...    shetland    6.0   \n",
      "1567  Ward Hill is the highest summit on isolated Fa...    shetland   4.25   \n",
      "1568  This fantastic walk takes in some of the best ...    shetland  12.75   \n",
      "1569  Fair Isle is a difficult place to get to - but...    shetland  15.75   \n",
      "\n",
      "     ascent corbett munro grade bog rating  \n",
      "0      65.0       0     0     1   1    3.8  \n",
      "1       6.0       0     0     1   1   3.71  \n",
      "2      34.0       0     0     1   1   1.43  \n",
      "3      16.0       0     0     1   1    4.2  \n",
      "4      56.0       0     0     1   1    4.0  \n",
      "...     ...     ...   ...   ...  ..    ...  \n",
      "1565  864.0       0     0     4   2    5.0  \n",
      "1566  130.0       0     0     1   1    3.5  \n",
      "1567  204.0       0     0     2   2    3.0  \n",
      "1568  392.0       0     0     2   2    5.0  \n",
      "1569  607.0       0     0     3   2    5.0  \n",
      "\n",
      "[1570 rows x 10 columns]\n"
     ]
    }
   ],
   "source": [
    "print(df)"
   ]
  },
  {
   "cell_type": "markdown",
   "id": "cddaf94b",
   "metadata": {},
   "source": [
    "Saving my work as a csv to use in future notebooks"
   ]
  },
  {
   "cell_type": "code",
   "execution_count": 24,
   "id": "9fb14d90",
   "metadata": {},
   "outputs": [],
   "source": [
    "df.to_csv('Walkhighlands_raw.csv')"
   ]
  },
  {
   "cell_type": "markdown",
   "id": "2e48bbec",
   "metadata": {},
   "source": [
    "# Features"
   ]
  },
  {
   "cell_type": "markdown",
   "id": "a9db190b",
   "metadata": {},
   "source": [
    "Let's take a quick look at what each feature means: \n",
    "\n",
    "name: the name of the walk (str)\n",
    "\n",
    "info: a brief summary of the walk (str)\n",
    "\n",
    "region: the region the walk is located in (str)\n",
    "\n",
    "dist: distance in Kilometres (float)\n",
    "\n",
    "ascent: Total ascent on the route in metres (float)\n",
    "\n",
    "corbett: number of corbett (mountians between 2500-3000ft) summits on route (int)\n",
    "\n",
    "munro: number of munro (mountians over 3000ft) summits on route (int)\n",
    "\n",
    "grade: a value of 1-5 given to a walk based on how challenging the terrain is\n",
    "\n",
    "bog: a value of 1-5 based on how wet/boggy the route is \n",
    "\n",
    "\n",
    "rating: The average score given to the route by uses on the site\n"
   ]
  },
  {
   "cell_type": "code",
   "execution_count": null,
   "id": "77df3662",
   "metadata": {},
   "outputs": [],
   "source": []
  }
 ],
 "metadata": {
  "kernelspec": {
   "display_name": "Python 3 (ipykernel)",
   "language": "python",
   "name": "python3"
  },
  "language_info": {
   "codemirror_mode": {
    "name": "ipython",
    "version": 3
   },
   "file_extension": ".py",
   "mimetype": "text/x-python",
   "name": "python",
   "nbconvert_exporter": "python",
   "pygments_lexer": "ipython3",
   "version": "3.9.12"
  }
 },
 "nbformat": 4,
 "nbformat_minor": 5
}
